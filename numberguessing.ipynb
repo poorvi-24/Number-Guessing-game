{
  "nbformat": 4,
  "nbformat_minor": 0,
  "metadata": {
    "colab": {
      "name": "Untitled4.ipynb",
      "provenance": []
    },
    "kernelspec": {
      "name": "python3",
      "display_name": "Python 3"
    }
  },
  "cells": [
    {
      "cell_type": "code",
      "metadata": {
        "id": "V8Z-OOn1Dmvy",
        "colab_type": "code",
        "colab": {
          "base_uri": "https://localhost:8080/",
          "height": 187
        },
        "outputId": "ba2e1136-1b54-4812-dfee-efb1bd8b5022"
      },
      "source": [
        "import random\n",
        "print(\"Lets play a game!\")\n",
        "print(\"I will think of a number betwwen 1 and 20 and you will have to guess in less than 5 guesses\")\n",
        "number=random.randint(1,20)\n",
        "guess_no=0\n",
        "while(guess_no<5):\n",
        "  guess=int(input(\"guess a number\"))\n",
        "  guess_no=guess_no+1\n",
        "  if(guess<number):\n",
        "    print(\"your guess is less than a number\")\n",
        "  elif(guess>number):\n",
        "    print(\"your guess is greater than a number\")\n",
        "  else:\n",
        "    break;\n",
        "if (guess==number):\n",
        "  print(\"your guess is correct!\")\n",
        "else:\n",
        "  print(\"sorry! your guess is incorrect, Try again\")\n"
      ],
      "execution_count": 3,
      "outputs": [
        {
          "output_type": "stream",
          "text": [
            "Lets play a game!\n",
            "I will think of a number betwwen 1 and 20 and you will have to guess in less than 5 guesses\n",
            "guess a number14\n",
            "your guess is greater than a number\n",
            "guess a number5\n",
            "your guess is greater than a number\n",
            "guess a number2\n",
            "your guess is less than a number\n",
            "guess a number4\n",
            "your guess is correct!\n"
          ],
          "name": "stdout"
        }
      ]
    },
    {
      "cell_type": "code",
      "metadata": {
        "id": "qGhtmw9gSby9",
        "colab_type": "code",
        "colab": {}
      },
      "source": [
        ""
      ],
      "execution_count": null,
      "outputs": []
    }
  ]
}